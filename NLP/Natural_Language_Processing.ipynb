{
  "nbformat": 4,
  "nbformat_minor": 0,
  "metadata": {
    "colab": {
      "provenance": [],
      "include_colab_link": true
    },
    "kernelspec": {
      "name": "python3",
      "display_name": "Python 3"
    },
    "language_info": {
      "name": "python"
    }
  },
  "cells": [
    {
      "cell_type": "markdown",
      "metadata": {
        "id": "view-in-github",
        "colab_type": "text"
      },
      "source": [
        "<a href=\"https://colab.research.google.com/github/fridaruh/haleytek_workshop/blob/master/NLP/Natural_Language_Processing.ipynb\" target=\"_parent\"><img src=\"https://colab.research.google.com/assets/colab-badge.svg\" alt=\"Open In Colab\"/></a>"
      ]
    },
    {
      "cell_type": "markdown",
      "source": [
        "# Vader Sentiment"
      ],
      "metadata": {
        "id": "fBJLFG-MwH-R"
      }
    },
    {
      "cell_type": "markdown",
      "source": [
        "vaderSentiment is a popular Python library for performing sentiment analysis. The name \"VADER\" is an acronym for Valence Aware Dictionary and sEntiment Reasoner. This library is specifically designed for social media sentiment analysis, but it's also quite effective for other types of text.\n",
        "\n",
        "Here's some more detail about vaderSentiment:\n",
        "\n",
        "- **Lexicon and Rule-Based:** vaderSentiment is a lexicon and rule-based \n",
        " sentiment analysis tool. This means it uses a set of manually defined words (the lexicon) along with a series of grammatical and syntactical rules to determine sentiment.\n",
        "\n",
        "- **Valence Score:** It doesn't just identify the sentiment as positive or negative. Instead, it provides a \"valence\" score which is a numerical score of the sentiment intensity. This score ranges from -1 (most negative) to +1 (most positive).\n",
        "\n",
        "- **Accounting for Context:** What makes vaderSentiment unique is that it doesn't just look at individual words in isolation. Instead, it also takes into account the context of words, including the impact of intensifiers (like \"very\") and diminishers (like \"kind of\").\n",
        "\n",
        "- **Handling of Emoticons, Slang and Emojis:** It's designed to understand social media text, and so it's able to understand things like emoticons (like \":)\") for happy), internet slang (like \"lol\"), and capitalization intensity (like \"GREAT!!\").\n",
        "\n",
        "- **Ease of Use:** One of the reasons vaderSentiment is so popular is because of how easy it is to use. You don't need to train any models or provide any training data. Instead, you just install the library, and it's ready to go.\n",
        "\n",
        "More information: https://vadersentiment.readthedocs.io/en/latest/"
      ],
      "metadata": {
        "id": "9NTMBXjewSme"
      }
    },
    {
      "cell_type": "markdown",
      "source": [
        "# Tweepy"
      ],
      "metadata": {
        "id": "Bv328nYbznB_"
      }
    },
    {
      "cell_type": "markdown",
      "source": [
        "Tweepy is an easy-to-use Python library for accessing the Twitter API, which you can use to scrape tweets from Twitter, among other things. The Tweepy library simplifies the process of working with Twitter's API and allows users to make API calls in a Pythonic way.\n",
        "\n",
        "Here's a brief overview of some of the key features and uses of Tweepy:\n",
        "\n",
        "- **Tweet Extraction:** Tweepy can be used to extract tweets from the Twitter API based on certain criteria such as keyword, location, date, and user.\n",
        "\n",
        "- **Posting Tweets:** With Tweepy, you can automate posting tweets on Twitter. You can also reply to tweets, like tweets, and retweet using Tweepy.\n",
        "\n",
        "- **Streaming Tweets:** Tweepy provides a convenient interface to Twitter's Streaming API, which allows you to filter and consume new tweets in real-time.\n",
        "\n",
        "- **User Details:** Tweepy can extract details about a Twitter user, such as the user's tweets, followers, following, likes, etc.\n",
        "\n",
        "- **Other Twitter API Functionality:** In addition to the above, Tweepy also provides support for direct messages, user authentication, and other functionalities provided by the Twitter API.\n",
        "\n",
        "More information: https://docs.tweepy.org/en/stable/"
      ],
      "metadata": {
        "id": "u-SBeDTZzrR6"
      }
    },
    {
      "cell_type": "markdown",
      "source": [
        "# Instalation"
      ],
      "metadata": {
        "id": "KBz5tK20w6Wg"
      }
    },
    {
      "cell_type": "code",
      "source": [
        "!pip install vaderSentiment"
      ],
      "metadata": {
        "colab": {
          "base_uri": "https://localhost:8080/"
        },
        "id": "ACumtpipwGDJ",
        "outputId": "891123e7-cb35-4c63-9583-03d4183e0af4"
      },
      "execution_count": null,
      "outputs": [
        {
          "output_type": "stream",
          "name": "stdout",
          "text": [
            "Looking in indexes: https://pypi.org/simple, https://us-python.pkg.dev/colab-wheels/public/simple/\n",
            "Collecting vaderSentiment\n",
            "  Downloading vaderSentiment-3.3.2-py2.py3-none-any.whl (125 kB)\n",
            "\u001b[2K     \u001b[90m━━━━━━━━━━━━━━━━━━━━━━━━━━━━━━━━━━━━━━━\u001b[0m \u001b[32m126.0/126.0 kB\u001b[0m \u001b[31m3.9 MB/s\u001b[0m eta \u001b[36m0:00:00\u001b[0m\n",
            "\u001b[?25hRequirement already satisfied: requests in /usr/local/lib/python3.10/dist-packages (from vaderSentiment) (2.27.1)\n",
            "Requirement already satisfied: urllib3<1.27,>=1.21.1 in /usr/local/lib/python3.10/dist-packages (from requests->vaderSentiment) (1.26.15)\n",
            "Requirement already satisfied: certifi>=2017.4.17 in /usr/local/lib/python3.10/dist-packages (from requests->vaderSentiment) (2022.12.7)\n",
            "Requirement already satisfied: charset-normalizer~=2.0.0 in /usr/local/lib/python3.10/dist-packages (from requests->vaderSentiment) (2.0.12)\n",
            "Requirement already satisfied: idna<4,>=2.5 in /usr/local/lib/python3.10/dist-packages (from requests->vaderSentiment) (3.4)\n",
            "Installing collected packages: vaderSentiment\n",
            "Successfully installed vaderSentiment-3.3.2\n"
          ]
        }
      ]
    },
    {
      "cell_type": "code",
      "execution_count": null,
      "metadata": {
        "id": "meDXMnuNdmn1"
      },
      "outputs": [],
      "source": [
        "from vaderSentiment.vaderSentiment import SentimentIntensityAnalyzer"
      ]
    },
    {
      "cell_type": "code",
      "source": [
        "analyser = SentimentIntensityAnalyzer()"
      ],
      "metadata": {
        "id": "ngkwwH-OxB-A"
      },
      "execution_count": null,
      "outputs": []
    },
    {
      "cell_type": "code",
      "source": [
        "import tweepy\n",
        "import pandas as pd\n",
        "import seaborn as sns"
      ],
      "metadata": {
        "id": "ddnd7z3-zjSt"
      },
      "execution_count": null,
      "outputs": []
    },
    {
      "cell_type": "markdown",
      "source": [
        "## Credentials"
      ],
      "metadata": {
        "id": "6ch1yUr-zSSj"
      }
    },
    {
      "cell_type": "code",
      "source": [
        "consumer_key = ''\n",
        "consumer_secret = ''\n",
        "access_token = ''\n",
        "access_token_secret = 'df.to_csv('fomento_autoempleo.csv') #Exportar la tabla'"
      ],
      "metadata": {
        "id": "ZLYrWvV0zbzW"
      },
      "execution_count": null,
      "outputs": []
    },
    {
      "cell_type": "code",
      "source": [
        "auth = tweepy.OAuthHandler(consumer_key, consumer_secret)\n",
        "auth.set_access_token(access_token, access_token_secret)"
      ],
      "metadata": {
        "id": "qM2ntkIMzc1A"
      },
      "execution_count": null,
      "outputs": []
    },
    {
      "cell_type": "code",
      "source": [
        "api = tweepy.API(auth)"
      ],
      "metadata": {
        "id": "W1WpSOEv0zoW"
      },
      "execution_count": null,
      "outputs": []
    },
    {
      "cell_type": "markdown",
      "source": [
        "# Tweet extraction"
      ],
      "metadata": {
        "id": "xQ5gYf21xBFd"
      }
    },
    {
      "cell_type": "markdown",
      "source": [
        "How to get started with the twitter API: https://developer.twitter.com/en/docs/twitter-api/getting-started/getting-access-to-the-twitter-api"
      ],
      "metadata": {
        "id": "caym7oP9yOWb"
      }
    },
    {
      "cell_type": "code",
      "source": [
        "tweet_user = []\n",
        "tweet_time = []\n",
        "tweet_string = []\n",
        "\n",
        "for tweet in tweepy.Cursor(api.search_tweets, q='volvo', count=1000).items(1000):\n",
        "  if (not tweet.retweeted) and ('RT @' not in tweet.text):\n",
        "    if tweet.lang == 'en': #we can change the language here\n",
        "      tweet_user.append(tweet.user.name)\n",
        "      tweet_time.append(tweet.created_at)\n",
        "      tweet_string.append(tweet.text)\n",
        "\n",
        "df = pd.DataFrame({'name': tweet_user, 'time':tweet_time, 'tweet':tweet_string})"
      ],
      "metadata": {
        "id": "aiZTAVu8yNiE"
      },
      "execution_count": null,
      "outputs": []
    },
    {
      "cell_type": "code",
      "source": [
        "df"
      ],
      "metadata": {
        "colab": {
          "base_uri": "https://localhost:8080/",
          "height": 424
        },
        "id": "QyP1yXG10-9C",
        "outputId": "25fcc6d8-0766-4420-c864-fa5d063357c7"
      },
      "execution_count": null,
      "outputs": [
        {
          "output_type": "execute_result",
          "data": {
            "text/plain": [
              "                         name                      time  \\\n",
              "0             Zamzam Auto Co. 2023-05-30 04:06:46+00:00   \n",
              "1                    G Eswari 2023-05-30 04:06:11+00:00   \n",
              "2             Zamzam Auto Co. 2023-05-30 04:06:04+00:00   \n",
              "3                    G Eswari 2023-05-30 04:05:52+00:00   \n",
              "4             Zamzam Auto Co. 2023-05-30 04:05:26+00:00   \n",
              "..                        ...                       ...   \n",
              "301          Chris Union Jack 2023-05-29 14:37:57+00:00   \n",
              "302           Kumbi-M on Cars 2023-05-29 14:33:49+00:00   \n",
              "303            北の傍観　日ハム　江越ファン 2023-05-29 14:32:10+00:00   \n",
              "304      Elizabeth K Chadwell 2023-05-29 14:29:50+00:00   \n",
              "305  The James Bond Dossier 🍸 2023-05-29 14:29:34+00:00   \n",
              "\n",
              "                                                 tweet  \n",
              "0    #Zamzamauto.com#Volvo#TractorUnit#FH12(500)#4x...  \n",
              "1    Volvo EX90 Twin Motor Performance Electric Car...  \n",
              "2    #Zamzamauto.com#Volvo#TractorUnit#FH12(500)#4x...  \n",
              "3    Volvo EX90 Twin Motor Electric Car - Price, Ot...  \n",
              "4    #Zamzamauto.com#Volvo#TractorUnit#FH12(500)#4x...  \n",
              "..                                                 ...  \n",
              "301  @VolvoCarUK xc40 diesel £375 per month \\n\\nVol...  \n",
              "302  This is the Volvo C40 Recharge. Completely imp...  \n",
              "303  @Volvo_to_gohan (T . T)(T . T)(T . T)(T . T)(T...  \n",
              "304  @elonmusk as a Volvo hybrid owner I’d love to ...  \n",
              "305  These aren’t the only cars Bond drives though....  \n",
              "\n",
              "[306 rows x 3 columns]"
            ],
            "text/html": [
              "\n",
              "  <div id=\"df-0c7c1f5b-fd83-4b56-ace0-976b1b04ed2a\">\n",
              "    <div class=\"colab-df-container\">\n",
              "      <div>\n",
              "<style scoped>\n",
              "    .dataframe tbody tr th:only-of-type {\n",
              "        vertical-align: middle;\n",
              "    }\n",
              "\n",
              "    .dataframe tbody tr th {\n",
              "        vertical-align: top;\n",
              "    }\n",
              "\n",
              "    .dataframe thead th {\n",
              "        text-align: right;\n",
              "    }\n",
              "</style>\n",
              "<table border=\"1\" class=\"dataframe\">\n",
              "  <thead>\n",
              "    <tr style=\"text-align: right;\">\n",
              "      <th></th>\n",
              "      <th>name</th>\n",
              "      <th>time</th>\n",
              "      <th>tweet</th>\n",
              "    </tr>\n",
              "  </thead>\n",
              "  <tbody>\n",
              "    <tr>\n",
              "      <th>0</th>\n",
              "      <td>Zamzam Auto Co.</td>\n",
              "      <td>2023-05-30 04:06:46+00:00</td>\n",
              "      <td>#Zamzamauto.com#Volvo#TractorUnit#FH12(500)#4x...</td>\n",
              "    </tr>\n",
              "    <tr>\n",
              "      <th>1</th>\n",
              "      <td>G Eswari</td>\n",
              "      <td>2023-05-30 04:06:11+00:00</td>\n",
              "      <td>Volvo EX90 Twin Motor Performance Electric Car...</td>\n",
              "    </tr>\n",
              "    <tr>\n",
              "      <th>2</th>\n",
              "      <td>Zamzam Auto Co.</td>\n",
              "      <td>2023-05-30 04:06:04+00:00</td>\n",
              "      <td>#Zamzamauto.com#Volvo#TractorUnit#FH12(500)#4x...</td>\n",
              "    </tr>\n",
              "    <tr>\n",
              "      <th>3</th>\n",
              "      <td>G Eswari</td>\n",
              "      <td>2023-05-30 04:05:52+00:00</td>\n",
              "      <td>Volvo EX90 Twin Motor Electric Car - Price, Ot...</td>\n",
              "    </tr>\n",
              "    <tr>\n",
              "      <th>4</th>\n",
              "      <td>Zamzam Auto Co.</td>\n",
              "      <td>2023-05-30 04:05:26+00:00</td>\n",
              "      <td>#Zamzamauto.com#Volvo#TractorUnit#FH12(500)#4x...</td>\n",
              "    </tr>\n",
              "    <tr>\n",
              "      <th>...</th>\n",
              "      <td>...</td>\n",
              "      <td>...</td>\n",
              "      <td>...</td>\n",
              "    </tr>\n",
              "    <tr>\n",
              "      <th>301</th>\n",
              "      <td>Chris Union Jack</td>\n",
              "      <td>2023-05-29 14:37:57+00:00</td>\n",
              "      <td>@VolvoCarUK xc40 diesel £375 per month \\n\\nVol...</td>\n",
              "    </tr>\n",
              "    <tr>\n",
              "      <th>302</th>\n",
              "      <td>Kumbi-M on Cars</td>\n",
              "      <td>2023-05-29 14:33:49+00:00</td>\n",
              "      <td>This is the Volvo C40 Recharge. Completely imp...</td>\n",
              "    </tr>\n",
              "    <tr>\n",
              "      <th>303</th>\n",
              "      <td>北の傍観　日ハム　江越ファン</td>\n",
              "      <td>2023-05-29 14:32:10+00:00</td>\n",
              "      <td>@Volvo_to_gohan (T . T)(T . T)(T . T)(T . T)(T...</td>\n",
              "    </tr>\n",
              "    <tr>\n",
              "      <th>304</th>\n",
              "      <td>Elizabeth K Chadwell</td>\n",
              "      <td>2023-05-29 14:29:50+00:00</td>\n",
              "      <td>@elonmusk as a Volvo hybrid owner I’d love to ...</td>\n",
              "    </tr>\n",
              "    <tr>\n",
              "      <th>305</th>\n",
              "      <td>The James Bond Dossier 🍸</td>\n",
              "      <td>2023-05-29 14:29:34+00:00</td>\n",
              "      <td>These aren’t the only cars Bond drives though....</td>\n",
              "    </tr>\n",
              "  </tbody>\n",
              "</table>\n",
              "<p>306 rows × 3 columns</p>\n",
              "</div>\n",
              "      <button class=\"colab-df-convert\" onclick=\"convertToInteractive('df-0c7c1f5b-fd83-4b56-ace0-976b1b04ed2a')\"\n",
              "              title=\"Convert this dataframe to an interactive table.\"\n",
              "              style=\"display:none;\">\n",
              "        \n",
              "  <svg xmlns=\"http://www.w3.org/2000/svg\" height=\"24px\"viewBox=\"0 0 24 24\"\n",
              "       width=\"24px\">\n",
              "    <path d=\"M0 0h24v24H0V0z\" fill=\"none\"/>\n",
              "    <path d=\"M18.56 5.44l.94 2.06.94-2.06 2.06-.94-2.06-.94-.94-2.06-.94 2.06-2.06.94zm-11 1L8.5 8.5l.94-2.06 2.06-.94-2.06-.94L8.5 2.5l-.94 2.06-2.06.94zm10 10l.94 2.06.94-2.06 2.06-.94-2.06-.94-.94-2.06-.94 2.06-2.06.94z\"/><path d=\"M17.41 7.96l-1.37-1.37c-.4-.4-.92-.59-1.43-.59-.52 0-1.04.2-1.43.59L10.3 9.45l-7.72 7.72c-.78.78-.78 2.05 0 2.83L4 21.41c.39.39.9.59 1.41.59.51 0 1.02-.2 1.41-.59l7.78-7.78 2.81-2.81c.8-.78.8-2.07 0-2.86zM5.41 20L4 18.59l7.72-7.72 1.47 1.35L5.41 20z\"/>\n",
              "  </svg>\n",
              "      </button>\n",
              "      \n",
              "  <style>\n",
              "    .colab-df-container {\n",
              "      display:flex;\n",
              "      flex-wrap:wrap;\n",
              "      gap: 12px;\n",
              "    }\n",
              "\n",
              "    .colab-df-convert {\n",
              "      background-color: #E8F0FE;\n",
              "      border: none;\n",
              "      border-radius: 50%;\n",
              "      cursor: pointer;\n",
              "      display: none;\n",
              "      fill: #1967D2;\n",
              "      height: 32px;\n",
              "      padding: 0 0 0 0;\n",
              "      width: 32px;\n",
              "    }\n",
              "\n",
              "    .colab-df-convert:hover {\n",
              "      background-color: #E2EBFA;\n",
              "      box-shadow: 0px 1px 2px rgba(60, 64, 67, 0.3), 0px 1px 3px 1px rgba(60, 64, 67, 0.15);\n",
              "      fill: #174EA6;\n",
              "    }\n",
              "\n",
              "    [theme=dark] .colab-df-convert {\n",
              "      background-color: #3B4455;\n",
              "      fill: #D2E3FC;\n",
              "    }\n",
              "\n",
              "    [theme=dark] .colab-df-convert:hover {\n",
              "      background-color: #434B5C;\n",
              "      box-shadow: 0px 1px 3px 1px rgba(0, 0, 0, 0.15);\n",
              "      filter: drop-shadow(0px 1px 2px rgba(0, 0, 0, 0.3));\n",
              "      fill: #FFFFFF;\n",
              "    }\n",
              "  </style>\n",
              "\n",
              "      <script>\n",
              "        const buttonEl =\n",
              "          document.querySelector('#df-0c7c1f5b-fd83-4b56-ace0-976b1b04ed2a button.colab-df-convert');\n",
              "        buttonEl.style.display =\n",
              "          google.colab.kernel.accessAllowed ? 'block' : 'none';\n",
              "\n",
              "        async function convertToInteractive(key) {\n",
              "          const element = document.querySelector('#df-0c7c1f5b-fd83-4b56-ace0-976b1b04ed2a');\n",
              "          const dataTable =\n",
              "            await google.colab.kernel.invokeFunction('convertToInteractive',\n",
              "                                                     [key], {});\n",
              "          if (!dataTable) return;\n",
              "\n",
              "          const docLinkHtml = 'Like what you see? Visit the ' +\n",
              "            '<a target=\"_blank\" href=https://colab.research.google.com/notebooks/data_table.ipynb>data table notebook</a>'\n",
              "            + ' to learn more about interactive tables.';\n",
              "          element.innerHTML = '';\n",
              "          dataTable['output_type'] = 'display_data';\n",
              "          await google.colab.output.renderOutput(dataTable, element);\n",
              "          const docLink = document.createElement('div');\n",
              "          docLink.innerHTML = docLinkHtml;\n",
              "          element.appendChild(docLink);\n",
              "        }\n",
              "      </script>\n",
              "    </div>\n",
              "  </div>\n",
              "  "
            ]
          },
          "metadata": {},
          "execution_count": 10
        }
      ]
    },
    {
      "cell_type": "code",
      "source": [
        "df.to_csv('volvo_tweets.csv') #Export table"
      ],
      "metadata": {
        "id": "dqnDPVZg1n2F"
      },
      "execution_count": null,
      "outputs": []
    },
    {
      "cell_type": "markdown",
      "source": [
        "# Read Dataset"
      ],
      "metadata": {
        "id": "5rKMcdcm46x2"
      }
    },
    {
      "cell_type": "code",
      "source": [
        "df = pd.read_csv('/content/nike_tweets.csv')"
      ],
      "metadata": {
        "id": "aiAh6VGF2eui"
      },
      "execution_count": null,
      "outputs": []
    },
    {
      "cell_type": "code",
      "source": [
        "analyser.polarity_scores(\"I feel so tired\") #Explain the weights to each category"
      ],
      "metadata": {
        "colab": {
          "base_uri": "https://localhost:8080/"
        },
        "id": "T5ia5de56-zw",
        "outputId": "a53f561a-d254-4599-e5ff-337df805cac0"
      },
      "execution_count": null,
      "outputs": [
        {
          "output_type": "execute_result",
          "data": {
            "text/plain": [
              "{'neg': 0.555, 'neu': 0.445, 'pos': 0.0, 'compound': -0.5777}"
            ]
          },
          "metadata": {},
          "execution_count": 13
        }
      ]
    },
    {
      "cell_type": "markdown",
      "source": [
        "This function creates a column that tells me if the comment is positive, negative or neutral"
      ],
      "metadata": {
        "id": "0SDlhCYV7T9_"
      }
    },
    {
      "cell_type": "code",
      "source": [
        "def sentiment_analyzer_scores(tweet):\n",
        "  score = analyser.polarity_scores(tweet)\n",
        "  comp = score['compound']\n",
        "  if comp >= 0.05:\n",
        "    return 1\n",
        "  elif (comp > -0.05) and (comp<0.05):\n",
        "    return 0\n",
        "  else:\n",
        "    return -1"
      ],
      "metadata": {
        "id": "2xeVRT3O7Mu9"
      },
      "execution_count": null,
      "outputs": []
    },
    {
      "cell_type": "code",
      "source": [
        "df['sentiment'] = df['tweet'].apply(lambda x: sentiment_analyzer_scores(x))"
      ],
      "metadata": {
        "id": "yDmUNr5D7YD0"
      },
      "execution_count": null,
      "outputs": []
    },
    {
      "cell_type": "code",
      "source": [
        "df.sample(5)"
      ],
      "metadata": {
        "colab": {
          "base_uri": "https://localhost:8080/",
          "height": 206
        },
        "id": "VepUUbuj7auU",
        "outputId": "b2642b48-72ab-4b01-d1f1-833ac9dff796"
      },
      "execution_count": null,
      "outputs": [
        {
          "output_type": "execute_result",
          "data": {
            "text/plain": [
              "                 name                            time  \\\n",
              "4581       AJacksonTV  Fri Sep 07 01:20:29 +0000 2018   \n",
              "2050  MisterAndersonK  Fri Sep 07 10:58:48 +0000 2018   \n",
              "3388  El_Rico_Suave10  Fri Sep 07 03:28:51 +0000 2018   \n",
              "284        SteveBrant  Fri Sep 07 15:44:02 +0000 2018   \n",
              "1545  beastmodewaller  Fri Sep 07 12:26:48 +0000 2018   \n",
              "\n",
              "                                                  tweet  sentiment  \n",
              "4581  For #Orlando friends 🤣 #justdoit ✔️ https://t....          1  \n",
              "2050  @Nike was thinking about being on the right si...          0  \n",
              "3388  I can’t wait to buy all my friends and family ...          1  \n",
              "284   @AlterNet Why focus on \"wackiness\"? Trump is a...          1  \n",
              "1545  Goodmorning 🌎. Its Friday!!!! #restday #goodmo...          1  "
            ],
            "text/html": [
              "\n",
              "  <div id=\"df-7b9e4491-34e5-4322-8cae-6a92b3d02b64\">\n",
              "    <div class=\"colab-df-container\">\n",
              "      <div>\n",
              "<style scoped>\n",
              "    .dataframe tbody tr th:only-of-type {\n",
              "        vertical-align: middle;\n",
              "    }\n",
              "\n",
              "    .dataframe tbody tr th {\n",
              "        vertical-align: top;\n",
              "    }\n",
              "\n",
              "    .dataframe thead th {\n",
              "        text-align: right;\n",
              "    }\n",
              "</style>\n",
              "<table border=\"1\" class=\"dataframe\">\n",
              "  <thead>\n",
              "    <tr style=\"text-align: right;\">\n",
              "      <th></th>\n",
              "      <th>name</th>\n",
              "      <th>time</th>\n",
              "      <th>tweet</th>\n",
              "      <th>sentiment</th>\n",
              "    </tr>\n",
              "  </thead>\n",
              "  <tbody>\n",
              "    <tr>\n",
              "      <th>4581</th>\n",
              "      <td>AJacksonTV</td>\n",
              "      <td>Fri Sep 07 01:20:29 +0000 2018</td>\n",
              "      <td>For #Orlando friends 🤣 #justdoit ✔️ https://t....</td>\n",
              "      <td>1</td>\n",
              "    </tr>\n",
              "    <tr>\n",
              "      <th>2050</th>\n",
              "      <td>MisterAndersonK</td>\n",
              "      <td>Fri Sep 07 10:58:48 +0000 2018</td>\n",
              "      <td>@Nike was thinking about being on the right si...</td>\n",
              "      <td>0</td>\n",
              "    </tr>\n",
              "    <tr>\n",
              "      <th>3388</th>\n",
              "      <td>El_Rico_Suave10</td>\n",
              "      <td>Fri Sep 07 03:28:51 +0000 2018</td>\n",
              "      <td>I can’t wait to buy all my friends and family ...</td>\n",
              "      <td>1</td>\n",
              "    </tr>\n",
              "    <tr>\n",
              "      <th>284</th>\n",
              "      <td>SteveBrant</td>\n",
              "      <td>Fri Sep 07 15:44:02 +0000 2018</td>\n",
              "      <td>@AlterNet Why focus on \"wackiness\"? Trump is a...</td>\n",
              "      <td>1</td>\n",
              "    </tr>\n",
              "    <tr>\n",
              "      <th>1545</th>\n",
              "      <td>beastmodewaller</td>\n",
              "      <td>Fri Sep 07 12:26:48 +0000 2018</td>\n",
              "      <td>Goodmorning 🌎. Its Friday!!!! #restday #goodmo...</td>\n",
              "      <td>1</td>\n",
              "    </tr>\n",
              "  </tbody>\n",
              "</table>\n",
              "</div>\n",
              "      <button class=\"colab-df-convert\" onclick=\"convertToInteractive('df-7b9e4491-34e5-4322-8cae-6a92b3d02b64')\"\n",
              "              title=\"Convert this dataframe to an interactive table.\"\n",
              "              style=\"display:none;\">\n",
              "        \n",
              "  <svg xmlns=\"http://www.w3.org/2000/svg\" height=\"24px\"viewBox=\"0 0 24 24\"\n",
              "       width=\"24px\">\n",
              "    <path d=\"M0 0h24v24H0V0z\" fill=\"none\"/>\n",
              "    <path d=\"M18.56 5.44l.94 2.06.94-2.06 2.06-.94-2.06-.94-.94-2.06-.94 2.06-2.06.94zm-11 1L8.5 8.5l.94-2.06 2.06-.94-2.06-.94L8.5 2.5l-.94 2.06-2.06.94zm10 10l.94 2.06.94-2.06 2.06-.94-2.06-.94-.94-2.06-.94 2.06-2.06.94z\"/><path d=\"M17.41 7.96l-1.37-1.37c-.4-.4-.92-.59-1.43-.59-.52 0-1.04.2-1.43.59L10.3 9.45l-7.72 7.72c-.78.78-.78 2.05 0 2.83L4 21.41c.39.39.9.59 1.41.59.51 0 1.02-.2 1.41-.59l7.78-7.78 2.81-2.81c.8-.78.8-2.07 0-2.86zM5.41 20L4 18.59l7.72-7.72 1.47 1.35L5.41 20z\"/>\n",
              "  </svg>\n",
              "      </button>\n",
              "      \n",
              "  <style>\n",
              "    .colab-df-container {\n",
              "      display:flex;\n",
              "      flex-wrap:wrap;\n",
              "      gap: 12px;\n",
              "    }\n",
              "\n",
              "    .colab-df-convert {\n",
              "      background-color: #E8F0FE;\n",
              "      border: none;\n",
              "      border-radius: 50%;\n",
              "      cursor: pointer;\n",
              "      display: none;\n",
              "      fill: #1967D2;\n",
              "      height: 32px;\n",
              "      padding: 0 0 0 0;\n",
              "      width: 32px;\n",
              "    }\n",
              "\n",
              "    .colab-df-convert:hover {\n",
              "      background-color: #E2EBFA;\n",
              "      box-shadow: 0px 1px 2px rgba(60, 64, 67, 0.3), 0px 1px 3px 1px rgba(60, 64, 67, 0.15);\n",
              "      fill: #174EA6;\n",
              "    }\n",
              "\n",
              "    [theme=dark] .colab-df-convert {\n",
              "      background-color: #3B4455;\n",
              "      fill: #D2E3FC;\n",
              "    }\n",
              "\n",
              "    [theme=dark] .colab-df-convert:hover {\n",
              "      background-color: #434B5C;\n",
              "      box-shadow: 0px 1px 3px 1px rgba(0, 0, 0, 0.15);\n",
              "      filter: drop-shadow(0px 1px 2px rgba(0, 0, 0, 0.3));\n",
              "      fill: #FFFFFF;\n",
              "    }\n",
              "  </style>\n",
              "\n",
              "      <script>\n",
              "        const buttonEl =\n",
              "          document.querySelector('#df-7b9e4491-34e5-4322-8cae-6a92b3d02b64 button.colab-df-convert');\n",
              "        buttonEl.style.display =\n",
              "          google.colab.kernel.accessAllowed ? 'block' : 'none';\n",
              "\n",
              "        async function convertToInteractive(key) {\n",
              "          const element = document.querySelector('#df-7b9e4491-34e5-4322-8cae-6a92b3d02b64');\n",
              "          const dataTable =\n",
              "            await google.colab.kernel.invokeFunction('convertToInteractive',\n",
              "                                                     [key], {});\n",
              "          if (!dataTable) return;\n",
              "\n",
              "          const docLinkHtml = 'Like what you see? Visit the ' +\n",
              "            '<a target=\"_blank\" href=https://colab.research.google.com/notebooks/data_table.ipynb>data table notebook</a>'\n",
              "            + ' to learn more about interactive tables.';\n",
              "          element.innerHTML = '';\n",
              "          dataTable['output_type'] = 'display_data';\n",
              "          await google.colab.output.renderOutput(dataTable, element);\n",
              "          const docLink = document.createElement('div');\n",
              "          docLink.innerHTML = docLinkHtml;\n",
              "          element.appendChild(docLink);\n",
              "        }\n",
              "      </script>\n",
              "    </div>\n",
              "  </div>\n",
              "  "
            ]
          },
          "metadata": {},
          "execution_count": 16
        }
      ]
    },
    {
      "cell_type": "code",
      "source": [
        "sns.displot(df, x='sentiment')"
      ],
      "metadata": {
        "colab": {
          "base_uri": "https://localhost:8080/",
          "height": 524
        },
        "id": "KtcQuQEs7dO1",
        "outputId": "f6d592ee-eec3-4bf8-da10-d41e6622aa8e"
      },
      "execution_count": null,
      "outputs": [
        {
          "output_type": "execute_result",
          "data": {
            "text/plain": [
              "<seaborn.axisgrid.FacetGrid at 0x7f6fe38e3a60>"
            ]
          },
          "metadata": {},
          "execution_count": 17
        },
        {
          "output_type": "display_data",
          "data": {
            "text/plain": [
              "<Figure size 500x500 with 1 Axes>"
            ],
            "image/png": "[encoded data removed]"
          },
          "metadata": {}
        }
      ]
    },
    {
      "cell_type": "code",
      "source": [
        "data = df['tweet'].tolist()"
      ],
      "metadata": {
        "id": "eig3-K8b7iIW"
      },
      "execution_count": null,
      "outputs": []
    },
    {
      "cell_type": "markdown",
      "source": [
        "# Natural Language Processing"
      ],
      "metadata": {
        "id": "J-i3W6EF7oPK"
      }
    },
    {
      "cell_type": "markdown",
      "source": [
        "We load pattern of abbreviations, hyphens and other figures"
      ],
      "metadata": {
        "id": "52sV3xpX7vTr"
      }
    },
    {
      "cell_type": "code",
      "source": [
        "pattern = r'''(?x)                  # Flag to start verbose mode\n",
        "              (?:[A-Z]\\.)+          # Matches abbreviations like U.S.A.\n",
        "              | \\w+(?:-\\w+)*        # Matches words that can have an internal hyphen\n",
        "              | \\$?\\d+(?:\\.\\d+)?%?  # Match money or percentages like $15.5 or 100%\n",
        "              | \\.\\.\\.              # Matches an ellipsis\n",
        "              | [][.,;\"'?():-_`]    # Match punctuation marks\n",
        "'''"
      ],
      "metadata": {
        "id": "07r81iZ07mlF"
      },
      "execution_count": null,
      "outputs": []
    },
    {
      "cell_type": "markdown",
      "source": [
        "## NLTK"
      ],
      "metadata": {
        "id": "erFWn5RH8bDc"
      }
    },
    {
      "cell_type": "markdown",
      "source": [
        "More information: https://www.nltk.org/"
      ],
      "metadata": {
        "id": "GmGCRzh98dty"
      }
    },
    {
      "cell_type": "code",
      "source": [
        "import nltk\n",
        "nltk.download('punkt')\n",
        "from nltk import word_tokenize"
      ],
      "metadata": {
        "colab": {
          "base_uri": "https://localhost:8080/"
        },
        "id": "p8anshQq8QR0",
        "outputId": "e12d6d9a-3a2e-4026-c623-068e3b986139"
      },
      "execution_count": null,
      "outputs": [
        {
          "output_type": "stream",
          "name": "stderr",
          "text": [
            "[nltk_data] Downloading package punkt to /root/nltk_data...\n",
            "[nltk_data]   Unzipping tokenizers/punkt.zip.\n"
          ]
        }
      ]
    },
    {
      "cell_type": "code",
      "source": [
        "text = []\n",
        "\n",
        "for x in range(0,len(data)):\n",
        "  token_1 = data[x].lower()\n",
        "  token_2 = nltk.regexp_tokenize(token_1, pattern)\n",
        "  text.append(token_2)"
      ],
      "metadata": {
        "id": "NhYPEuQg8WcR"
      },
      "execution_count": null,
      "outputs": []
    },
    {
      "cell_type": "markdown",
      "source": [
        "Returns a single list the list of lists that were the tweets"
      ],
      "metadata": {
        "id": "mnkfKqRZ8uGe"
      }
    },
    {
      "cell_type": "code",
      "source": [
        "flatten = [w for l in text for w in l]"
      ],
      "metadata": {
        "id": "nm7ihQJ-8owF"
      },
      "execution_count": null,
      "outputs": []
    },
    {
      "cell_type": "markdown",
      "source": [
        "We import the punctuation marks to later remove them"
      ],
      "metadata": {
        "id": "gTXnp96B80dC"
      }
    },
    {
      "cell_type": "code",
      "source": [
        "import string\n",
        "punctuations = list(string.punctuation)"
      ],
      "metadata": {
        "id": "gsEBDneS8wK_"
      },
      "execution_count": null,
      "outputs": []
    },
    {
      "cell_type": "markdown",
      "source": [
        "We import a list of \"stopwords\" or also called prepositions"
      ],
      "metadata": {
        "id": "k95mVFS08-dI"
      }
    },
    {
      "cell_type": "code",
      "source": [
        "nltk.download('stopwords')\n",
        "newStopWords = list(nltk.corpus.stopwords.words('english')) #We can change the language"
      ],
      "metadata": {
        "colab": {
          "base_uri": "https://localhost:8080/"
        },
        "id": "-pTzp_JB86dD",
        "outputId": "88a983a6-c2be-438e-d495-9fdc90fc9b8a"
      },
      "execution_count": null,
      "outputs": [
        {
          "output_type": "stream",
          "name": "stderr",
          "text": [
            "[nltk_data] Downloading package stopwords to /root/nltk_data...\n",
            "[nltk_data]   Unzipping corpora/stopwords.zip.\n"
          ]
        }
      ]
    },
    {
      "cell_type": "code",
      "source": [
        "df_2 = [w for w in flatten if w not in newStopWords]\n",
        "df_3 = [w for w in df_2 if w not in punctuations]"
      ],
      "metadata": {
        "id": "KT6Xzb3M9FRE"
      },
      "execution_count": null,
      "outputs": []
    },
    {
      "cell_type": "markdown",
      "source": [
        "**Frequency**"
      ],
      "metadata": {
        "id": "iLriWSsE9M8X"
      }
    },
    {
      "cell_type": "code",
      "source": [
        "fw = nltk.FreqDist(df_3)"
      ],
      "metadata": {
        "id": "eIxE0HMp9IoU"
      },
      "execution_count": null,
      "outputs": []
    },
    {
      "cell_type": "code",
      "source": [
        "fw.most_common(25)"
      ],
      "metadata": {
        "colab": {
          "base_uri": "https://localhost:8080/"
        },
        "id": "aniLbnMz9Mac",
        "outputId": "b56132a1-bc48-48f9-9dc1-3c8606307c27"
      },
      "execution_count": null,
      "outputs": [
        {
          "output_type": "execute_result",
          "data": {
            "text/plain": [
              "[('justdoit', 5150),\n",
              " ('https', 3228),\n",
              " ('co', 3228),\n",
              " ('nike', 2889),\n",
              " ('...', 689),\n",
              " ('kaepernick7', 500),\n",
              " ('realdonaldtrump', 412),\n",
              " ('kaepernick', 372),\n",
              " ('crazy', 330),\n",
              " ('believe', 312),\n",
              " ('commercial', 297),\n",
              " ('even', 293),\n",
              " ('like', 270),\n",
              " ('something', 258),\n",
              " ('one', 251),\n",
              " ('amp', 244),\n",
              " ('ad', 243),\n",
              " ('new', 240),\n",
              " ('nfl', 236),\n",
              " ('people', 231),\n",
              " ('love', 222),\n",
              " ('colinkaepernick', 210),\n",
              " ('get', 207),\n",
              " ('ask', 207),\n",
              " ('everything', 206)]"
            ]
          },
          "metadata": {},
          "execution_count": 30
        }
      ]
    },
    {
      "cell_type": "markdown",
      "source": [
        "The next line is optional and is to remove some words that you want to omit"
      ],
      "metadata": {
        "id": "KUDyhQhz9X3Z"
      }
    },
    {
      "cell_type": "code",
      "source": [
        "omit_words = ['justdoit','nike','co','https','...'] #The list of words that you want to quit\n",
        "df_4 = [w for w in df_3 if w not in omit_words]"
      ],
      "metadata": {
        "id": "uVPDHXTm9STF"
      },
      "execution_count": null,
      "outputs": []
    },
    {
      "cell_type": "code",
      "source": [
        "fw = nltk.FreqDist(df_4)"
      ],
      "metadata": {
        "id": "NQjSXy5E9m8e"
      },
      "execution_count": null,
      "outputs": []
    },
    {
      "cell_type": "code",
      "source": [
        "fw.most_common(50)"
      ],
      "metadata": {
        "colab": {
          "base_uri": "https://localhost:8080/"
        },
        "id": "3QN9LeVj9oky",
        "outputId": "e5570ce0-575d-4bc1-9a54-d46d0f54879a"
      },
      "execution_count": null,
      "outputs": [
        {
          "output_type": "execute_result",
          "data": {
            "text/plain": [
              "[('kaepernick7', 500),\n",
              " ('realdonaldtrump', 412),\n",
              " ('kaepernick', 372),\n",
              " ('crazy', 330),\n",
              " ('believe', 312),\n",
              " ('commercial', 297),\n",
              " ('even', 293),\n",
              " ('like', 270),\n",
              " ('something', 258),\n",
              " ('one', 251),\n",
              " ('amp', 244),\n",
              " ('ad', 243),\n",
              " ('new', 240),\n",
              " ('nfl', 236),\n",
              " ('people', 231),\n",
              " ('love', 222),\n",
              " ('colinkaepernick', 210),\n",
              " ('get', 207),\n",
              " ('ask', 207),\n",
              " ('everything', 206),\n",
              " ('means', 187),\n",
              " ('colin', 175),\n",
              " ('enough', 170),\n",
              " ('campaign', 168),\n",
              " ('go', 166),\n",
              " ('dreams', 164),\n",
              " ('right', 161),\n",
              " ('sacrificing', 146),\n",
              " ('know', 145),\n",
              " ('good', 142),\n",
              " ('time', 141),\n",
              " ('takeaknee', 138),\n",
              " ('thinking', 136),\n",
              " ('make', 136),\n",
              " ('great', 129),\n",
              " ('shoes', 126),\n",
              " ('would', 126),\n",
              " ('stand', 124),\n",
              " ('think', 119),\n",
              " ('want', 119),\n",
              " ('best', 116),\n",
              " ('support', 113),\n",
              " ('thank', 112),\n",
              " ('today', 111),\n",
              " ('need', 110),\n",
              " ('serenawilliams', 110),\n",
              " ('see', 107),\n",
              " ('life', 106),\n",
              " ('work', 106),\n",
              " ('way', 104)]"
            ]
          },
          "metadata": {},
          "execution_count": 33
        }
      ]
    },
    {
      "cell_type": "markdown",
      "source": [
        "# Word Cloud"
      ],
      "metadata": {
        "id": "yXWB-2c_9uCV"
      }
    },
    {
      "cell_type": "code",
      "source": [
        "from wordcloud import WordCloud\n",
        "import matplotlib.pyplot as plt"
      ],
      "metadata": {
        "id": "_Yyln4Ig9qjy"
      },
      "execution_count": null,
      "outputs": []
    },
    {
      "cell_type": "code",
      "source": [
        "wordcloud = WordCloud(background_color='white', collocations=False, max_words=50).fit_words(fw)\n",
        "plt.imshow(wordcloud, interpolation='bilinear')\n",
        "plt.axis('off')\n",
        "plt.show()"
      ],
      "metadata": {
        "colab": {
          "base_uri": "https://localhost:8080/",
          "height": 285
        },
        "id": "AFLI7BcT9wXD",
        "outputId": "c5c47e9e-fe92-4d8a-b826-3e85a0613713"
      },
      "execution_count": null,
      "outputs": [
        {
          "output_type": "display_data",
          "data": {
            "text/plain": [
              "<Figure size 640x480 with 1 Axes>"
            ],
            "image/png": "[encoded data removed]"
          },
          "metadata": {}
        }
      ]
    },
    {
      "cell_type": "code",
      "source": [],
      "metadata": {
        "id": "oR48B5jN9yaH"
      },
      "execution_count": null,
      "outputs": []
    }
  ]
}
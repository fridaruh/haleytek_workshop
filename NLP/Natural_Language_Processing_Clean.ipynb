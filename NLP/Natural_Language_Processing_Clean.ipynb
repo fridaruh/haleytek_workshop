{
  "nbformat": 4,
  "nbformat_minor": 0,
  "metadata": {
    "colab": {
      "provenance": [],
      "include_colab_link": true
    },
    "kernelspec": {
      "name": "python3",
      "display_name": "Python 3"
    },
    "language_info": {
      "name": "python"
    }
  },
  "cells": [
    {
      "cell_type": "markdown",
      "metadata": {
        "id": "view-in-github",
        "colab_type": "text"
      },
      "source": [
        "<a href=\"https://colab.research.google.com/github/fridaruh/haleytek_workshop/blob/master/NLP/Natural_Language_Processing_Clean.ipynb\" target=\"_parent\"><img src=\"https://colab.research.google.com/assets/colab-badge.svg\" alt=\"Open In Colab\"/></a>"
      ]
    },
    {
      "cell_type": "markdown",
      "source": [
        "# Vader Sentiment"
      ],
      "metadata": {
        "id": "fBJLFG-MwH-R"
      }
    },
    {
      "cell_type": "markdown",
      "source": [
        "vaderSentiment is a popular Python library for performing sentiment analysis. The name \"VADER\" is an acronym for Valence Aware Dictionary and sEntiment Reasoner. This library is specifically designed for social media sentiment analysis, but it's also quite effective for other types of text.\n",
        "\n",
        "Here's some more detail about vaderSentiment:\n",
        "\n",
        "- **Lexicon and Rule-Based:** vaderSentiment is a lexicon and rule-based \n",
        " sentiment analysis tool. This means it uses a set of manually defined words (the lexicon) along with a series of grammatical and syntactical rules to determine sentiment.\n",
        "\n",
        "- **Valence Score:** It doesn't just identify the sentiment as positive or negative. Instead, it provides a \"valence\" score which is a numerical score of the sentiment intensity. This score ranges from -1 (most negative) to +1 (most positive).\n",
        "\n",
        "- **Accounting for Context:** What makes vaderSentiment unique is that it doesn't just look at individual words in isolation. Instead, it also takes into account the context of words, including the impact of intensifiers (like \"very\") and diminishers (like \"kind of\").\n",
        "\n",
        "- **Handling of Emoticons, Slang and Emojis:** It's designed to understand social media text, and so it's able to understand things like emoticons (like \":)\") for happy), internet slang (like \"lol\"), and capitalization intensity (like \"GREAT!!\").\n",
        "\n",
        "- **Ease of Use:** One of the reasons vaderSentiment is so popular is because of how easy it is to use. You don't need to train any models or provide any training data. Instead, you just install the library, and it's ready to go.\n",
        "\n",
        "More information: https://vadersentiment.readthedocs.io/en/latest/"
      ],
      "metadata": {
        "id": "9NTMBXjewSme"
      }
    },
    {
      "cell_type": "markdown",
      "source": [
        "# Tweepy"
      ],
      "metadata": {
        "id": "Bv328nYbznB_"
      }
    },
    {
      "cell_type": "markdown",
      "source": [
        "Tweepy is an easy-to-use Python library for accessing the Twitter API, which you can use to scrape tweets from Twitter, among other things. The Tweepy library simplifies the process of working with Twitter's API and allows users to make API calls in a Pythonic way.\n",
        "\n",
        "Here's a brief overview of some of the key features and uses of Tweepy:\n",
        "\n",
        "- **Tweet Extraction:** Tweepy can be used to extract tweets from the Twitter API based on certain criteria such as keyword, location, date, and user.\n",
        "\n",
        "- **Posting Tweets:** With Tweepy, you can automate posting tweets on Twitter. You can also reply to tweets, like tweets, and retweet using Tweepy.\n",
        "\n",
        "- **Streaming Tweets:** Tweepy provides a convenient interface to Twitter's Streaming API, which allows you to filter and consume new tweets in real-time.\n",
        "\n",
        "- **User Details:** Tweepy can extract details about a Twitter user, such as the user's tweets, followers, following, likes, etc.\n",
        "\n",
        "- **Other Twitter API Functionality:** In addition to the above, Tweepy also provides support for direct messages, user authentication, and other functionalities provided by the Twitter API.\n",
        "\n",
        "More information: https://docs.tweepy.org/en/stable/"
      ],
      "metadata": {
        "id": "u-SBeDTZzrR6"
      }
    },
    {
      "cell_type": "markdown",
      "source": [
        "# Instalation"
      ],
      "metadata": {
        "id": "KBz5tK20w6Wg"
      }
    },
    {
      "cell_type": "code",
      "source": [],
      "metadata": {
        "id": "ACumtpipwGDJ"
      },
      "execution_count": null,
      "outputs": []
    },
    {
      "cell_type": "code",
      "execution_count": null,
      "metadata": {
        "id": "meDXMnuNdmn1"
      },
      "outputs": [],
      "source": []
    },
    {
      "cell_type": "code",
      "source": [],
      "metadata": {
        "id": "ngkwwH-OxB-A"
      },
      "execution_count": null,
      "outputs": []
    },
    {
      "cell_type": "code",
      "source": [],
      "metadata": {
        "id": "ddnd7z3-zjSt"
      },
      "execution_count": null,
      "outputs": []
    },
    {
      "cell_type": "markdown",
      "source": [
        "## Credentials"
      ],
      "metadata": {
        "id": "6ch1yUr-zSSj"
      }
    },
    {
      "cell_type": "code",
      "source": [
        "consumer_key = ''\n",
        "consumer_secret = ''\n",
        "access_token = ''"
      ],
      "metadata": {
        "id": "ZLYrWvV0zbzW"
      },
      "execution_count": 1,
      "outputs": []
    },
    {
      "cell_type": "code",
      "source": [
        "auth = tweepy.OAuthHandler(consumer_key, consumer_secret)\n",
        "auth.set_access_token(access_token, access_token_secret)"
      ],
      "metadata": {
        "id": "qM2ntkIMzc1A",
        "colab": {
          "base_uri": "https://localhost:8080/",
          "height": 187
        },
        "outputId": "5d8abd4e-1168-448e-da6d-ed0816423841"
      },
      "execution_count": 2,
      "outputs": [
        {
          "output_type": "error",
          "ename": "NameError",
          "evalue": "ignored",
          "traceback": [
            "\u001b[0;31m---------------------------------------------------------------------------\u001b[0m",
            "\u001b[0;31mNameError\u001b[0m                                 Traceback (most recent call last)",
            "\u001b[0;32m<ipython-input-2-c10bc5ade3e4>\u001b[0m in \u001b[0;36m<cell line: 1>\u001b[0;34m()\u001b[0m\n\u001b[0;32m----> 1\u001b[0;31m \u001b[0mauth\u001b[0m \u001b[0;34m=\u001b[0m \u001b[0mtweepy\u001b[0m\u001b[0;34m.\u001b[0m\u001b[0mOAuthHandler\u001b[0m\u001b[0;34m(\u001b[0m\u001b[0mconsumer_key\u001b[0m\u001b[0;34m,\u001b[0m \u001b[0mconsumer_secret\u001b[0m\u001b[0;34m)\u001b[0m\u001b[0;34m\u001b[0m\u001b[0;34m\u001b[0m\u001b[0m\n\u001b[0m\u001b[1;32m      2\u001b[0m \u001b[0mauth\u001b[0m\u001b[0;34m.\u001b[0m\u001b[0mset_access_token\u001b[0m\u001b[0;34m(\u001b[0m\u001b[0maccess_token\u001b[0m\u001b[0;34m,\u001b[0m \u001b[0maccess_token_secret\u001b[0m\u001b[0;34m)\u001b[0m\u001b[0;34m\u001b[0m\u001b[0;34m\u001b[0m\u001b[0m\n",
            "\u001b[0;31mNameError\u001b[0m: name 'tweepy' is not defined"
          ]
        }
      ]
    },
    {
      "cell_type": "code",
      "source": [
        "api = tweepy.API(auth)"
      ],
      "metadata": {
        "id": "W1WpSOEv0zoW"
      },
      "execution_count": null,
      "outputs": []
    },
    {
      "cell_type": "markdown",
      "source": [
        "# Tweet extraction"
      ],
      "metadata": {
        "id": "xQ5gYf21xBFd"
      }
    },
    {
      "cell_type": "markdown",
      "source": [
        "How to get started with the twitter API: https://developer.twitter.com/en/docs/twitter-api/getting-started/getting-access-to-the-twitter-api"
      ],
      "metadata": {
        "id": "caym7oP9yOWb"
      }
    },
    {
      "cell_type": "code",
      "source": [],
      "metadata": {
        "id": "aiZTAVu8yNiE"
      },
      "execution_count": null,
      "outputs": []
    },
    {
      "cell_type": "code",
      "source": [],
      "metadata": {
        "id": "QyP1yXG10-9C"
      },
      "execution_count": null,
      "outputs": []
    },
    {
      "cell_type": "code",
      "source": [],
      "metadata": {
        "id": "dqnDPVZg1n2F"
      },
      "execution_count": null,
      "outputs": []
    },
    {
      "cell_type": "markdown",
      "source": [
        "# Read Dataset"
      ],
      "metadata": {
        "id": "5rKMcdcm46x2"
      }
    },
    {
      "cell_type": "code",
      "source": [],
      "metadata": {
        "id": "aiAh6VGF2eui"
      },
      "execution_count": null,
      "outputs": []
    },
    {
      "cell_type": "code",
      "source": [],
      "metadata": {
        "id": "T5ia5de56-zw"
      },
      "execution_count": null,
      "outputs": []
    },
    {
      "cell_type": "markdown",
      "source": [
        "This function creates a column that tells me if the comment is positive, negative or neutral"
      ],
      "metadata": {
        "id": "0SDlhCYV7T9_"
      }
    },
    {
      "cell_type": "code",
      "source": [],
      "metadata": {
        "id": "2xeVRT3O7Mu9"
      },
      "execution_count": null,
      "outputs": []
    },
    {
      "cell_type": "code",
      "source": [],
      "metadata": {
        "id": "yDmUNr5D7YD0"
      },
      "execution_count": null,
      "outputs": []
    },
    {
      "cell_type": "code",
      "source": [],
      "metadata": {
        "id": "VepUUbuj7auU"
      },
      "execution_count": null,
      "outputs": []
    },
    {
      "cell_type": "code",
      "source": [],
      "metadata": {
        "id": "KtcQuQEs7dO1"
      },
      "execution_count": null,
      "outputs": []
    },
    {
      "cell_type": "code",
      "source": [],
      "metadata": {
        "id": "eig3-K8b7iIW"
      },
      "execution_count": null,
      "outputs": []
    },
    {
      "cell_type": "markdown",
      "source": [
        "# Natural Language Processing"
      ],
      "metadata": {
        "id": "J-i3W6EF7oPK"
      }
    },
    {
      "cell_type": "markdown",
      "source": [
        "We load pattern of abbreviations, hyphens and other figures"
      ],
      "metadata": {
        "id": "52sV3xpX7vTr"
      }
    },
    {
      "cell_type": "code",
      "source": [
        "pattern = r'''(?x)                  # Flag to start verbose mode\n",
        "              (?:[A-Z]\\.)+          # Matches abbreviations like U.S.A.\n",
        "              | \\w+(?:-\\w+)*        # Matches words that can have an internal hyphen\n",
        "              | \\$?\\d+(?:\\.\\d+)?%?  # Match money or percentages like $15.5 or 100%\n",
        "              | \\.\\.\\.              # Matches an ellipsis\n",
        "              | [][.,;\"'?():-_`]    # Match punctuation marks\n",
        "'''"
      ],
      "metadata": {
        "id": "07r81iZ07mlF"
      },
      "execution_count": null,
      "outputs": []
    },
    {
      "cell_type": "markdown",
      "source": [
        "## NLTK"
      ],
      "metadata": {
        "id": "erFWn5RH8bDc"
      }
    },
    {
      "cell_type": "markdown",
      "source": [
        "More information: https://www.nltk.org/"
      ],
      "metadata": {
        "id": "GmGCRzh98dty"
      }
    },
    {
      "cell_type": "code",
      "source": [],
      "metadata": {
        "id": "p8anshQq8QR0"
      },
      "execution_count": null,
      "outputs": []
    },
    {
      "cell_type": "code",
      "source": [],
      "metadata": {
        "id": "NhYPEuQg8WcR"
      },
      "execution_count": null,
      "outputs": []
    },
    {
      "cell_type": "markdown",
      "source": [
        "Returns a single list the list of lists that were the tweets"
      ],
      "metadata": {
        "id": "mnkfKqRZ8uGe"
      }
    },
    {
      "cell_type": "code",
      "source": [],
      "metadata": {
        "id": "nm7ihQJ-8owF"
      },
      "execution_count": null,
      "outputs": []
    },
    {
      "cell_type": "markdown",
      "source": [
        "We import the punctuation marks to later remove them"
      ],
      "metadata": {
        "id": "gTXnp96B80dC"
      }
    },
    {
      "cell_type": "code",
      "source": [],
      "metadata": {
        "id": "gsEBDneS8wK_"
      },
      "execution_count": null,
      "outputs": []
    },
    {
      "cell_type": "markdown",
      "source": [
        "We import a list of \"stopwords\" or also called prepositions"
      ],
      "metadata": {
        "id": "k95mVFS08-dI"
      }
    },
    {
      "cell_type": "code",
      "source": [],
      "metadata": {
        "id": "-pTzp_JB86dD"
      },
      "execution_count": null,
      "outputs": []
    },
    {
      "cell_type": "code",
      "source": [],
      "metadata": {
        "id": "KT6Xzb3M9FRE"
      },
      "execution_count": null,
      "outputs": []
    },
    {
      "cell_type": "markdown",
      "source": [
        "**Frequency**"
      ],
      "metadata": {
        "id": "iLriWSsE9M8X"
      }
    },
    {
      "cell_type": "code",
      "source": [],
      "metadata": {
        "id": "eIxE0HMp9IoU"
      },
      "execution_count": null,
      "outputs": []
    },
    {
      "cell_type": "code",
      "source": [],
      "metadata": {
        "id": "aniLbnMz9Mac"
      },
      "execution_count": null,
      "outputs": []
    },
    {
      "cell_type": "markdown",
      "source": [
        "The next line is optional and is to remove some words that you want to omit"
      ],
      "metadata": {
        "id": "KUDyhQhz9X3Z"
      }
    },
    {
      "cell_type": "code",
      "source": [],
      "metadata": {
        "id": "uVPDHXTm9STF"
      },
      "execution_count": null,
      "outputs": []
    },
    {
      "cell_type": "code",
      "source": [],
      "metadata": {
        "id": "NQjSXy5E9m8e"
      },
      "execution_count": null,
      "outputs": []
    },
    {
      "cell_type": "code",
      "source": [],
      "metadata": {
        "id": "3QN9LeVj9oky"
      },
      "execution_count": null,
      "outputs": []
    },
    {
      "cell_type": "markdown",
      "source": [
        "# Word Cloud"
      ],
      "metadata": {
        "id": "yXWB-2c_9uCV"
      }
    },
    {
      "cell_type": "code",
      "source": [],
      "metadata": {
        "id": "_Yyln4Ig9qjy"
      },
      "execution_count": null,
      "outputs": []
    },
    {
      "cell_type": "code",
      "source": [],
      "metadata": {
        "id": "AFLI7BcT9wXD"
      },
      "execution_count": null,
      "outputs": []
    },
    {
      "cell_type": "code",
      "source": [],
      "metadata": {
        "id": "oR48B5jN9yaH"
      },
      "execution_count": null,
      "outputs": []
    }
  ]
}